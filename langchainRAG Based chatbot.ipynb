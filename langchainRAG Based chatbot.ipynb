{
 "cells": [
  {
   "cell_type": "code",
   "execution_count": 1,
   "id": "47437a1c-800a-4aeb-8dea-f69563e2b22c",
   "metadata": {},
   "outputs": [],
   "source": [
    "#pip install -r requirements.txt\n",
    "#(needed libraries are installed with version because of langchain may difficult when version error)\n"
   ]
  },
  {
   "cell_type": "code",
   "execution_count": 2,
   "id": "2b81fcac-c50e-4362-9120-e6ef31452158",
   "metadata": {},
   "outputs": [],
   "source": [
    "import os\n",
    "os.environ[\"GOOGLE_API_KEY\"] = (gemini api key)\n",
    "# gemini api key uploaded\n"
   ]
  },
  {
   "cell_type": "code",
   "execution_count": 3,
   "id": "eb52eb15-49dc-4d57-b00f-fd4219f12616",
   "metadata": {},
   "outputs": [
    {
     "name": "stderr",
     "output_type": "stream",
     "text": [
      "C:\\Users\\udhaya\\anaconda3\\envs\\agenticai\\Lib\\site-packages\\pypdf\\_crypt_providers\\_cryptography.py:32: CryptographyDeprecationWarning: ARC4 has been moved to cryptography.hazmat.decrepit.ciphers.algorithms.ARC4 and will be removed from cryptography.hazmat.primitives.ciphers.algorithms in 48.0.0.\n",
      "  from cryptography.hazmat.primitives.ciphers.algorithms import AES, ARC4\n"
     ]
    }
   ],
   "source": [
    "from langchain.document_loaders import PyPDFLoader\n",
    "\n",
    "loader = PyPDFLoader(\"Udhayakumar B Resume.pdf\")\n",
    "documents = loader.load()\n",
    "#my resume 2 pages uploaded in pdf format\n"
   ]
  },
  {
   "cell_type": "code",
   "execution_count": 4,
   "id": "e9cdc65e-3366-46ba-8a59-0ba645f89aae",
   "metadata": {},
   "outputs": [],
   "source": [
    "from langchain.text_splitter import RecursiveCharacterTextSplitter\n",
    "\n",
    "splitter = RecursiveCharacterTextSplitter(chunk_size=600, chunk_overlap=100)\n",
    "docs = splitter.split_documents(documents)\n",
    "#loaded 2 page resume splitted into varuious chunks due to easy retrieval\n"
   ]
  },
  {
   "cell_type": "code",
   "execution_count": 5,
   "id": "17622745-3bf5-4771-a33f-9d6d9132fb79",
   "metadata": {},
   "outputs": [
    {
     "data": {
      "text/plain": [
       "[Document(metadata={'producer': 'Canva', 'creator': 'Canva', 'creationdate': '2025-08-24T16:17:17+00:00', 'title': 'Udhayakumar resume.pdf', 'moddate': '2025-08-24T16:17:16+00:00', 'keywords': 'DAGxAHs2rCY,BAFl5an3MA8,0', 'author': 'UDHAYA KUMAR', 'source': 'Udhayakumar B Resume.pdf', 'total_pages': 2, 'page': 0, 'page_label': '1'}, page_content='Github +91-8870172428\\nMayiladuthurai,609811\\n udhayaaiengineer@ gmail.comExperienced professional with 10+ years in mechanical\\noperations specializing in maintenance coordination,\\ndocumentation, and resource management. Recently upskilled\\nin AI and Data Science, with expertise in data analysis,\\nvisualization, and machine learning. Known for improving\\nefficiency, ensuring safety, and delivering projects on time.\\nReady to combine mechanical expertise and AI skills to drive\\ninnovation and business success.\\nDeveloped dashboards and reports to track performance and'),\n",
       " Document(metadata={'producer': 'Canva', 'creator': 'Canva', 'creationdate': '2025-08-24T16:17:17+00:00', 'title': 'Udhayakumar resume.pdf', 'moddate': '2025-08-24T16:17:16+00:00', 'keywords': 'DAGxAHs2rCY,BAFl5an3MA8,0', 'author': 'UDHAYA KUMAR', 'source': 'Udhayakumar B Resume.pdf', 'total_pages': 2, 'page': 0, 'page_label': '1'}, page_content='innovation and business success.\\nDeveloped dashboards and reports to track performance and\\nkey metrics, ensuring actionable insights for process\\nimprovement. Applied Machine Learning techniques to predict\\ntrends, optimize operations, and enhance resource planning.\\nAutomated data processes such as data collection, cleaning,\\nand analysis to save time and improve efficiency.\\nImplemented AI-driven solutions to improve maintenance\\nplanning, streamline workflows, and enhance safety\\ncompliance.\\nIdentified task activities by assigning work centers and'),\n",
       " Document(metadata={'producer': 'Canva', 'creator': 'Canva', 'creationdate': '2025-08-24T16:17:17+00:00', 'title': 'Udhayakumar resume.pdf', 'moddate': '2025-08-24T16:17:16+00:00', 'keywords': 'DAGxAHs2rCY,BAFl5an3MA8,0', 'author': 'UDHAYA KUMAR', 'source': 'Udhayakumar B Resume.pdf', 'total_pages': 2, 'page': 0, 'page_label': '1'}, page_content='compliance.\\nIdentified task activities by assigning work centers and\\nensuring the availability of materials, tools, and equipment.\\nMaintained routine management records and ensured the\\nsmooth flow of daily operations.\\nMonitored and controlled maintenance activities, including\\npreventive, scheduled, breakdown, and shutdown tasks.\\nEnsured effective resource utilization through close tracking\\nof maintenance schedules and operations.\\nCollaborated on AI-based projects, including data\\nintegration, model development, and dashboard creation, to\\nsupport business goals.EDA Data Processing'),\n",
       " Document(metadata={'producer': 'Canva', 'creator': 'Canva', 'creationdate': '2025-08-24T16:17:17+00:00', 'title': 'Udhayakumar resume.pdf', 'moddate': '2025-08-24T16:17:16+00:00', 'keywords': 'DAGxAHs2rCY,BAFl5an3MA8,0', 'author': 'UDHAYA KUMAR', 'source': 'Udhayakumar B Resume.pdf', 'total_pages': 2, 'page': 0, 'page_label': '1'}, page_content='support business goals.EDA Data Processing\\nDeployment, Data Visualization\\npython Library-Numpy, Pandas,\\nMatplotlib, Seaborn, Keras,\\nTensor flow\\nOpenCv\\n Machine Learning\\n Deep Learning\\n Time series Analysis\\n Natural Language processing \\n SQL\\n PowerBI \\nLLM (Large Language Model)\\nGenerative AI \\nAsset Management \\nAUTO CAD PRO-E\\n Mechanical materials\\n vender Management \\nAI Agent\\nspecialised rag based AI Agentslinkedin.com/in/udhayaai1992\\nSKILLSCONTACT PROFILE\\nW ORK EXPERIENCE\\nDocumentation Executive & Maintenance Coordinator/Planner\\n2014- 2025\\nKey Responsibilities:UDHAYAKUMAR\\nAI & DATA SCIENTIST'),\n",
       " Document(metadata={'producer': 'Canva', 'creator': 'Canva', 'creationdate': '2025-08-24T16:17:17+00:00', 'title': 'Udhayakumar resume.pdf', 'moddate': '2025-08-24T16:17:16+00:00', 'keywords': 'DAGxAHs2rCY,BAFl5an3MA8,0', 'author': 'UDHAYA KUMAR', 'source': 'Udhayakumar B Resume.pdf', 'total_pages': 2, 'page': 0, 'page_label': '1'}, page_content='2014- 2025\\nKey Responsibilities:UDHAYAKUMAR\\nAI & DATA SCIENTIST \\nCREW Pvt Ltd,Chennai'),\n",
       " Document(metadata={'producer': 'Canva', 'creator': 'Canva', 'creationdate': '2025-08-24T16:17:17+00:00', 'title': 'Udhayakumar resume.pdf', 'moddate': '2025-08-24T16:17:16+00:00', 'keywords': 'DAGxAHs2rCY,BAFl5an3MA8,0', 'author': 'UDHAYA KUMAR', 'source': 'Udhayakumar B Resume.pdf', 'total_pages': 2, 'page': 1, 'page_label': '2'}, page_content='SOFT SKILLS\\nEDUCATION \\nB.E, MECHANICALENGINEERING\\nARASU ENGINEERING COLLEGE,\\nKUMBAKONAM\\nCGPA 7.6LANGUAGES\\nCERTIFICATIONPROJECTS\\nDIPLOMA MECHANICAL\\nENGINEERING  \\nSSP GOV POLYTECHNIC\\nCOLLEGE\\n74.79 %2011 - 20142. Object detection using SSD MobileNet- Deep learning\\nProject overview \\nDevelopedan ObjectDetection system using the SSD MobileNet model to identify and\\nlocalize tools, and equipment in real-time video streams. Utilized TensorFlow, OpenCV,\\nand Python for training, deployment, and image processing. Demonstrated expertise in'),\n",
       " Document(metadata={'producer': 'Canva', 'creator': 'Canva', 'creationdate': '2025-08-24T16:17:17+00:00', 'title': 'Udhayakumar resume.pdf', 'moddate': '2025-08-24T16:17:16+00:00', 'keywords': 'DAGxAHs2rCY,BAFl5an3MA8,0', 'author': 'UDHAYA KUMAR', 'source': 'Udhayakumar B Resume.pdf', 'total_pages': 2, 'page': 1, 'page_label': '2'}, page_content='and Python for training, deployment, and image processing. Demonstrated expertise in\\ndeep learning and computer vision for accurate detection and localization.\\nTechnologies & Tools Used:\\n3. Dashboard Creation using Looker Studio for HopeAI Website\\nReal-Time Dataset\\nProject overview \\nDeveloped adashboard using Looker Studio and real-time data from the HopeAI\\nwebsite to analyze customer behavior and target audiences. Used data analysis and\\nvisual storytelling to improve marketing strategies and user engagement. Integrated'),\n",
       " Document(metadata={'producer': 'Canva', 'creator': 'Canva', 'creationdate': '2025-08-24T16:17:17+00:00', 'title': 'Udhayakumar resume.pdf', 'moddate': '2025-08-24T16:17:16+00:00', 'keywords': 'DAGxAHs2rCY,BAFl5an3MA8,0', 'author': 'UDHAYA KUMAR', 'source': 'Udhayakumar B Resume.pdf', 'total_pages': 2, 'page': 1, 'page_label': '2'}, page_content='visual storytelling to improve marketing strategies and user engagement. Integrated\\nadvanced Looker Studio features for clear, actionable insights and data-driven\\ndecision-making.1. Rag-Based Q&A System for Resume Analysis using Generative AI,\\nChromaDB VectorDatabase \\nProject Overview:English\\nTamil\\nMaintenance planning and\\ncoordination\\nCollaboration and Teamwork\\nMaterial management and\\nprocurement\\nSafety protocols and\\nregulations\\nData analysis and reporting\\n(Looker Studio)\\nMS Word and documentation\\nmanagement\\nTime management and\\norganization\\nLeadership and Initiative\\nTechnical support'),\n",
       " Document(metadata={'producer': 'Canva', 'creator': 'Canva', 'creationdate': '2025-08-24T16:17:17+00:00', 'title': 'Udhayakumar resume.pdf', 'moddate': '2025-08-24T16:17:16+00:00', 'keywords': 'DAGxAHs2rCY,BAFl5an3MA8,0', 'author': 'UDHAYA KUMAR', 'source': 'Udhayakumar B Resume.pdf', 'total_pages': 2, 'page': 1, 'page_label': '2'}, page_content='management\\nTime management and\\norganization\\nLeadership and Initiative\\nTechnical support\\nCommunication Skills\\n2007- 2010Completed the complete\\nAI & Data Science course on\\nHope Artificial Intelligence Pvt\\nLtd, Coimbatore \\nParticipation Certificate of Real\\nTime Project Dashboard using\\nLooker Studio by HopeAI Technologies & Tools Used:  \\nKey Responsibilities :\\n \\nKey Responsibilities :\\n  \\nTechnologies & Tools Used:\\nLooker Studio\\nKey Responsibilities :\\n SSD,MobileNet,TensorFlow,OpenCV, Python, NumPyNaturalLanguageProcessing(NLP), Python programming , Generate AI'),\n",
       " Document(metadata={'producer': 'Canva', 'creator': 'Canva', 'creationdate': '2025-08-24T16:17:17+00:00', 'title': 'Udhayakumar resume.pdf', 'moddate': '2025-08-24T16:17:16+00:00', 'keywords': 'DAGxAHs2rCY,BAFl5an3MA8,0', 'author': 'UDHAYA KUMAR', 'source': 'Udhayakumar B Resume.pdf', 'total_pages': 2, 'page': 1, 'page_label': '2'}, page_content='Thisobjectdetection system makes it easy to identify moving or shuffled objects\\nquickly, saving time and effort.\\nDeveloped an object detection system for real-time identification and localization\\nof objects in live video streams with high accuracy.\\nOptimized video frame processing to display real-time outputs, including object\\nlabels and detection confidence scores.\\nEnsured accuracy and reliability through continuous testing and fine-tuning of the\\ndetection process.\\nDevelopeda comprehensive Dashboard using Looker Studio and real-time HopeAI\\nwebsite data for actionable insights.'),\n",
       " Document(metadata={'producer': 'Canva', 'creator': 'Canva', 'creationdate': '2025-08-24T16:17:17+00:00', 'title': 'Udhayakumar resume.pdf', 'moddate': '2025-08-24T16:17:16+00:00', 'keywords': 'DAGxAHs2rCY,BAFl5an3MA8,0', 'author': 'UDHAYA KUMAR', 'source': 'Udhayakumar B Resume.pdf', 'total_pages': 2, 'page': 1, 'page_label': '2'}, page_content='website data for actionable insights.\\nConducted data analysis, visualization, and storytelling to drive informed\\ndecisions and enhance marketing strategies.\\nDesigned and implemented data integration solutions to provide clear, insightful\\nreporting.\\nUtilized dashboard design expertise to analyze customer channels, geographies,\\nand target audiences effectively.Designedand implemented a RAG-based Q&A system for extracting key information\\nfrom resumes using Generative AI.\\nIntegrated ChromaDB for efficient storage and retrieval of resume embeddings,\\nenhancing system performance.'),\n",
       " Document(metadata={'producer': 'Canva', 'creator': 'Canva', 'creationdate': '2025-08-24T16:17:17+00:00', 'title': 'Udhayakumar resume.pdf', 'moddate': '2025-08-24T16:17:16+00:00', 'keywords': 'DAGxAHs2rCY,BAFl5an3MA8,0', 'author': 'UDHAYA KUMAR', 'source': 'Udhayakumar B Resume.pdf', 'total_pages': 2, 'page': 1, 'page_label': '2'}, page_content='enhancing system performance.\\nUtilized Python and NLP libraries in Google Colab for model development, testing, and\\nevaluation.\\nTrained and evaluated the system on a resume dataset, ensuring accurate\\ninformation retrieval and high performance.Designedandimplemented a RAG-based Q&A system to analyze resumes and extract\\nkey information in a concise Q&A format. Leveraged Generative AI and ChromaDB Vector\\nDatabase for efficient storage and retrieval. The system was developed in Google Colab\\nand achieved high accuracy in extracting relevant details from resume datasets.')]"
      ]
     },
     "execution_count": 5,
     "metadata": {},
     "output_type": "execute_result"
    }
   ],
   "source": [
    "docs"
   ]
  },
  {
   "cell_type": "code",
   "execution_count": 6,
   "id": "637553fe-6f2d-463c-87d4-3a706d6f5128",
   "metadata": {},
   "outputs": [
    {
     "name": "stderr",
     "output_type": "stream",
     "text": [
      "C:\\Users\\udhaya\\AppData\\Local\\Temp\\ipykernel_2376\\2067003000.py:5: LangChainDeprecationWarning: The class `HuggingFaceEmbeddings` was deprecated in LangChain 0.2.2 and will be removed in 1.0. An updated version of the class exists in the :class:`~langchain-huggingface package and should be used instead. To use it run `pip install -U :class:`~langchain-huggingface` and import as `from :class:`~langchain_huggingface import HuggingFaceEmbeddings``.\n",
      "  embeddings = HuggingFaceEmbeddings(model_name=\"BAAI/bge-small-en-v1.5\")\n",
      "Failed to send telemetry event ClientStartEvent: capture() takes 1 positional argument but 3 were given\n",
      "Failed to send telemetry event ClientCreateCollectionEvent: capture() takes 1 positional argument but 3 were given\n"
     ]
    }
   ],
   "source": [
    "from langchain_community.embeddings import HuggingFaceEmbeddings\n",
    "from langchain_community.vectorstores import Chroma\n",
    "\n",
    "# Use HuggingFace embeddings (free, local)\n",
    "embeddings = HuggingFaceEmbeddings(model_name=\"BAAI/bge-small-en-v1.5\")\n",
    "\n",
    "# Store in Chroma\n",
    "vectorstore = Chroma.from_documents(\n",
    "    docs, \n",
    "    embeddings, \n",
    "    persist_directory=\"db\"\n",
    ")\n",
    "\n",
    "retriever = vectorstore.as_retriever()\n",
    "#chunks of text data are converted into  meaningful numerical number for easy understand purposes \n",
    "#here huggingface embedding model used and vectore store chromadb used\n"
   ]
  },
  {
   "cell_type": "code",
   "execution_count": 7,
   "id": "22e738a0-16b5-4e30-af48-a44f9174fcbb",
   "metadata": {},
   "outputs": [
    {
     "data": {
      "text/plain": [
       "VectorStoreRetriever(tags=['Chroma', 'HuggingFaceEmbeddings'], vectorstore=<langchain_community.vectorstores.chroma.Chroma object at 0x000001BCED786C90>, search_kwargs={})"
      ]
     },
     "execution_count": 7,
     "metadata": {},
     "output_type": "execute_result"
    }
   ],
   "source": [
    "retriever"
   ]
  },
  {
   "cell_type": "code",
   "execution_count": 8,
   "id": "980dcc51-9076-4cac-aa46-6cfc1e6177f8",
   "metadata": {},
   "outputs": [],
   "source": [
    "#!pip install --upgrade langchain langchain-core langchain-community"
   ]
  },
  {
   "cell_type": "code",
   "execution_count": 9,
   "id": "302ab934-691c-42c6-ac03-fd06bb8e10da",
   "metadata": {},
   "outputs": [],
   "source": [
    "# 2. Ensure Pydantic is on V2\n",
    "#!pip install \"pydantic>=2.0\""
   ]
  },
  {
   "cell_type": "code",
   "execution_count": 10,
   "id": "ccd90d25-3663-4686-bd9d-2794b6213f1c",
   "metadata": {},
   "outputs": [],
   "source": [
    "from langchain_google_genai import ChatGoogleGenerativeAI\n",
    "# Use the official, current model name\n",
    "llm = ChatGoogleGenerativeAI(model=\"gemini-2.5-flash\",temperature=0.2) # Or \"gemini-2.5-pro\""
   ]
  },
  {
   "cell_type": "code",
   "execution_count": 11,
   "id": "52bff1d4-8989-417d-bc41-67ecb56d816d",
   "metadata": {},
   "outputs": [],
   "source": [
    "#  Conversational RAG chain\n",
    "from langchain.chains import ConversationalRetrievalChain\n",
    "rag_chain = ConversationalRetrievalChain.from_llm(\n",
    "    llm=llm,\n",
    "    retriever=retriever,\n",
    "    return_source_documents=False\n",
    ")"
   ]
  },
  {
   "cell_type": "code",
   "execution_count": 12,
   "id": "4dc73e87-d2f7-4e56-a79a-c8ea99b80e10",
   "metadata": {},
   "outputs": [
    {
     "name": "stderr",
     "output_type": "stream",
     "text": [
      "C:\\Users\\udhaya\\AppData\\Local\\Temp\\ipykernel_2376\\2137983393.py:3: LangChainDeprecationWarning: Please see the migration guide at: https://python.langchain.com/docs/versions/migrating_memory/\n",
      "  memory = ConversationBufferMemory(memory_key=\"chat_history\", return_messages=True)\n"
     ]
    }
   ],
   "source": [
    "#  Memory for chat history\n",
    "from langchain.memory import ConversationBufferMemory\n",
    "memory = ConversationBufferMemory(memory_key=\"chat_history\", return_messages=True)\n"
   ]
  },
  {
   "cell_type": "code",
   "execution_count": 17,
   "id": "693600ee-7fb9-4c74-9b42-60f9d93fdc9f",
   "metadata": {},
   "outputs": [],
   "source": [
    "#  Wrap RAG as a StructuredTool\n",
    "from langchain.agents import initialize_agent, AgentType\n",
    "from langchain.tools import StructuredTool\n",
    "def rag_tool_fn(question: str) -> str:\n",
    "    return rag_chain.invoke({\n",
    "        \"question\": question,\n",
    "        \"chat_history\": []\n",
    "    })[\"answer\"]\n",
    "\n",
    "rag_tool = StructuredTool.from_function(\n",
    "    name=\"RAG_QA\",\n",
    "    description=\"Useful for answering questions about resume summary from the provided documents.\",\n",
    "    func=rag_tool_fn\n",
    ")"
   ]
  },
  {
   "cell_type": "code",
   "execution_count": 18,
   "id": "8b46f98c-d3f2-48b2-8eba-a05d9d8dbb94",
   "metadata": {},
   "outputs": [],
   "source": [
    "#  Create agent\n",
    "agent = initialize_agent(\n",
    "    tools=[rag_tool],\n",
    "    llm=llm,\n",
    "    agent=AgentType.CONVERSATIONAL_REACT_DESCRIPTION,\n",
    "    verbose=True,\n",
    "    memory=memory,\n",
    "    handle_parsing_errors=True\n",
    ")"
   ]
  },
  {
   "cell_type": "code",
   "execution_count": 19,
   "id": "b4cd1475-8e90-49db-af50-eb8a8e88cd99",
   "metadata": {},
   "outputs": [
    {
     "name": "stdout",
     "output_type": "stream",
     "text": [
      "1️⃣ First question\n",
      "\n",
      "\n",
      "\u001b[1m> Entering new AgentExecutor chain...\u001b[0m\n",
      "\u001b[32;1m\u001b[1;3mThought: Do I need to use a tool? No\n",
      "AI: The skills used include: Time management, Organization, Leadership, Initiative, Technical support, Communication Skills, Looker Studio, SSD, MobileNet, TensorFlow, OpenCV, Python programming, NumPy, Natural Language Processing (NLP), and Generative AI.\u001b[0m\n",
      "\n",
      "\u001b[1m> Finished chain.\u001b[0m\n",
      "Answer: The skills used include: Time management, Organization, Leadership, Initiative, Technical support, Communication Skills, Looker Studio, SSD, MobileNet, TensorFlow, OpenCV, Python programming, NumPy, Natural Language Processing (NLP), and Generative AI.\n",
      "\n",
      "2️⃣ Follow-up\n",
      "\n",
      "\n",
      "\u001b[1m> Entering new AgentExecutor chain...\u001b[0m\n",
      "\u001b[32;1m\u001b[1;3mThought: Do I need to use a tool? No\n",
      "AI: The project \"Real Time Project Dashboard using Looker Studio\" was created by HopeAI Technologies.\u001b[0m\n",
      "\n",
      "\u001b[1m> Finished chain.\u001b[0m\n",
      "Answer: The project \"Real Time Project Dashboard using Looker Studio\" was created by HopeAI Technologies.\n",
      "\n",
      "3️⃣ Ask again\n",
      "\n",
      "\n",
      "\u001b[1m> Entering new AgentExecutor chain...\u001b[0m\n",
      "\u001b[32;1m\u001b[1;3mThought: Do I need to use a tool? No\n",
      "AI: A resume is a document that summarizes your professional background, including your work experience, education, skills, and achievements. It's essentially a marketing tool you use to present yourself to potential employers, highlighting why you're a good fit for a job. In simple terms, it's a brief overview of your professional life designed to get you an interview.\u001b[0m\n",
      "\n",
      "\u001b[1m> Finished chain.\u001b[0m\n",
      "Answer: A resume is a document that summarizes your professional background, including your work experience, education, skills, and achievements. It's essentially a marketing tool you use to present yourself to potential employers, highlighting why you're a good fit for a job. In simple terms, it's a brief overview of your professional life designed to get you an interview.\n"
     ]
    }
   ],
   "source": [
    "#  Run conversation\n",
    "print(\"1️⃣ First question\")\n",
    "res1 = agent.run(\"What are the skills used?\")\n",
    "print(\"Answer:\", res1)\n",
    "\n",
    "print(\"\\n2️⃣ Follow-up\")\n",
    "res2 = agent.run(\"Who created it?\")\n",
    "print(\"Answer:\", res2)\n",
    "\n",
    "print(\"\\n3️⃣ Ask again\")\n",
    "res3 = agent.run(\"Explain and summaries resume simply.\")\n",
    "print(\"Answer:\", res3)\n"
   ]
  },
  {
   "cell_type": "code",
   "execution_count": null,
   "id": "d3f2e7ae-6445-4e8f-8658-26cb6f6a7772",
   "metadata": {},
   "outputs": [],
   "source": []
  },
  {
   "cell_type": "code",
   "execution_count": null,
   "id": "fc8a9a27-2143-4b5d-a899-0e714ce6d4f9",
   "metadata": {},
   "outputs": [],
   "source": []
  }
 ],
 "metadata": {
  "kernelspec": {
   "display_name": "Python 3 (ipykernel)",
   "language": "python",
   "name": "python3"
  },
  "language_info": {
   "codemirror_mode": {
    "name": "ipython",
    "version": 3
   },
   "file_extension": ".py",
   "mimetype": "text/x-python",
   "name": "python",
   "nbconvert_exporter": "python",
   "pygments_lexer": "ipython3",
   "version": "3.11.11"
  }
 },
 "nbformat": 4,
 "nbformat_minor": 5
}
